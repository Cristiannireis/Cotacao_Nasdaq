{
 "cells": [
  {
   "cell_type": "code",
   "execution_count": 2,
   "id": "b34f9345",
   "metadata": {},
   "outputs": [
    {
     "name": "stdout",
     "output_type": "stream",
     "text": [
      "                    High           Low          Open         Close  \\\n",
      "Date                                                                 \n",
      "2022-04-04  14534.379883  14286.450195  14304.349609  14532.549805   \n",
      "2022-04-05  14500.290039  14169.120117  14490.259766  14204.169922   \n",
      "2022-04-06  14032.839844  13788.900391  14002.580078  13888.820312   \n",
      "2022-04-07  13978.250000  13689.230469  13861.490234  13897.299805   \n",
      "2022-04-08  13866.059570  13693.690430  13830.469727  13711.000000   \n",
      "...                  ...           ...           ...           ...   \n",
      "2022-06-27  11677.490234  11487.070312  11661.019531  11524.549805   \n",
      "2022-06-28  11635.849609  11177.679688  11542.240234  11181.540039   \n",
      "2022-06-29  11226.330078  11072.190430  11160.219727  11177.889648   \n",
      "2022-06-30  11160.919922  10850.009766  11048.250000  11028.740234   \n",
      "2022-07-01  11132.549805  10922.709961  11006.830078  11127.849609   \n",
      "\n",
      "                Volume     Adj Close  \n",
      "Date                                  \n",
      "2022-04-04  4598480000  14532.549805  \n",
      "2022-04-05  4707090000  14204.169922  \n",
      "2022-04-06  5265740000  13888.820312  \n",
      "2022-04-07  4822420000  13897.299805  \n",
      "2022-04-08  4554890000  13711.000000  \n",
      "...                ...           ...  \n",
      "2022-06-27  5017930000  11524.549805  \n",
      "2022-06-28  5397910000  11181.540039  \n",
      "2022-06-29  5609230000  11177.889648  \n",
      "2022-06-30  5620800000  11028.740234  \n",
      "2022-07-01  4844560000  11127.849609  \n",
      "\n",
      "[62 rows x 6 columns]\n"
     ]
    }
   ],
   "source": [
    "import pandas as pd\n",
    "import numpy as np\n",
    "import pandas_datareader.data as web\n",
    "import matplotlib.pyplot as plt\n",
    "\n",
    "Nasdaq = web.DataReader('^IXIC', data_source='yahoo', start='2022-04-03', end='2022-07-03')\n",
    "print(Nasdaq)\n"
   ]
  },
  {
   "cell_type": "code",
   "execution_count": null,
   "id": "bc32db1d",
   "metadata": {},
   "outputs": [],
   "source": []
  }
 ],
 "metadata": {
  "kernelspec": {
   "display_name": "Python 3 (ipykernel)",
   "language": "python",
   "name": "python3"
  },
  "language_info": {
   "codemirror_mode": {
    "name": "ipython",
    "version": 3
   },
   "file_extension": ".py",
   "mimetype": "text/x-python",
   "name": "python",
   "nbconvert_exporter": "python",
   "pygments_lexer": "ipython3",
   "version": "3.9.7"
  }
 },
 "nbformat": 4,
 "nbformat_minor": 5
}
